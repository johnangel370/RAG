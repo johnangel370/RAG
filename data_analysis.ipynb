{
 "cells": [
  {
   "metadata": {
    "ExecuteTime": {
     "end_time": "2025-08-27T16:25:44.844631Z",
     "start_time": "2025-08-27T16:25:44.779778Z"
    }
   },
   "cell_type": "code",
   "source": [
    "import polars as pl\n",
    "from pathlib import Path\n",
    "import json"
   ],
   "id": "3aea342f76d9285b",
   "outputs": [],
   "execution_count": 1
  },
  {
   "cell_type": "code",
   "id": "initial_id",
   "metadata": {
    "collapsed": true,
    "ExecuteTime": {
     "end_time": "2025-08-27T16:26:46.517469Z",
     "start_time": "2025-08-27T16:26:46.512750Z"
    }
   },
   "source": [
    "# Loading params keyword dictionary\n",
    "kw_file = \"data/keywords/params_keywords.yaml\"\n",
    "with open(kw_file, 'r') as f:\n",
    "    data = json.load(f)\n",
    "\n",
    "# Transfer dictionary to dataframe\n",
    "rows = []\n",
    "for param_id, keywords in data.items():\n",
    "    rows.append({\n",
    "        'parameter_id': int(param_id),\n",
    "        'keywords': keywords\n",
    "    })\n",
    "keywords_df = pl.DataFrame(rows)"
   ],
   "outputs": [],
   "execution_count": 5
  },
  {
   "metadata": {
    "ExecuteTime": {
     "end_time": "2025-08-27T16:27:26.872521Z",
     "start_time": "2025-08-27T16:27:26.867573Z"
    }
   },
   "cell_type": "code",
   "source": [
    "# Dataframe display data settings\n",
    "pl.Config.set_fmt_str_lengths(1000)\n",
    "pl.Config.set_tbl_width_chars(1000)\n",
    "pl.Config.set_fmt_table_cell_list_len(-1)\n",
    "pl.Config.set_tbl_rows(-1)\n",
    "keywords_df"
   ],
   "id": "deaff4ce58df86b7",
   "outputs": [
    {
     "data": {
      "text/plain": [
       "shape: (48, 2)\n",
       "┌──────────────┬─────────────────────────────────────────────────────────────────────────────────────┐\n",
       "│ parameter_id ┆ keywords                                                                            │\n",
       "│ ---          ┆ ---                                                                                 │\n",
       "│ i64          ┆ list[str]                                                                           │\n",
       "╞══════════════╪═════════════════════════════════════════════════════════════════════════════════════╡\n",
       "│ 1            ┆ [\"weight\", \"mass\", \"heavy\", \"light\", \"moving\", \"mobile\", \"dynamic\"]                 │\n",
       "│ 2            ┆ [\"weight\", \"mass\", \"heavy\", \"light\", \"stationary\", \"fixed\", \"static\"]               │\n",
       "│ 3            ┆ [\"length\", \"angle\", \"long\", \"short\", \"dimension\", \"angular\", \"moving\", \"mobile\"]    │\n",
       "│ 4            ┆ [\"length\", \"angle\", \"long\", \"short\", \"dimension\", \"angular\", \"stationary\", \"fixed\"] │\n",
       "│ 5            ┆ [\"area\", \"surface\", \"coverage\", \"moving\", \"mobile\"]                                 │\n",
       "│ 6            ┆ [\"area\", \"surface\", \"coverage\", \"stationary\", \"fixed\"]                              │\n",
       "│ 7            ┆ [\"volume\", \"capacity\", \"size\", \"moving\", \"mobile\"]                                  │\n",
       "│ 8            ┆ [\"volume\", \"capacity\", \"size\", \"stationary\", \"fixed\"]                               │\n",
       "│ 9            ┆ [\"shape\", \"form\", \"geometry\", \"configuration\", \"design\", \"contour\"]                 │\n",
       "│ 10           ┆ [\"amount\", \"substance\", \"quantity\", \"material\", \"matter\", \"mass\"]                   │\n",
       "│ 11           ┆ [\"amount\", \"information\", \"data\", \"knowledge\", \"content\", \"details\"]                │\n",
       "│ 12           ┆ [\"duration\", \"time\", \"period\", \"lifetime\", \"moving\", \"action\"]                      │\n",
       "│ 13           ┆ [\"duration\", \"time\", \"period\", \"lifetime\", \"stationary\", \"action\"]                  │\n",
       "│ 14           ┆ [\"speed\", \"velocity\", \"fast\", \"slow\", \"rate\", \"acceleration\"]                       │\n",
       "│ 15           ┆ [\"force\", \"torque\", \"push\", \"pull\", \"tension\", \"compression\", \"twist\"]              │\n",
       "│ 16           ┆ [\"energy\", \"power\", \"consumption\", \"efficiency\", \"moving\", \"dynamic\"]               │\n",
       "│ 17           ┆ [\"energy\", \"power\", \"consumption\", \"efficiency\", \"stationary\", \"static\"]            │\n",
       "│ 18           ┆ [\"power\", \"energy\", \"electrical\", \"mechanical\", \"output\", \"wattage\"]                │\n",
       "│ 19           ┆ [\"stress\", \"pressure\", \"strain\", \"load\", \"mechanical\", \"compression\"]               │\n",
       "│ 20           ┆ [\"strength\", \"durability\", \"robust\", \"strong\", \"weak\", \"mechanical\"]                │\n",
       "│ 21           ┆ [\"stability\", \"stable\", \"unstable\", \"equilibrium\", \"balance\", \"steady\"]             │\n",
       "│ 22           ┆ [\"temperature\", \"heat\", \"cold\", \"thermal\", \"heating\", \"cooling\"]                    │\n",
       "│ 23           ┆ [\"illumination\", \"light\", \"brightness\", \"lighting\", \"visibility\"]                   │\n",
       "│ 24           ┆ [\"function\", \"efficiency\", \"performance\", \"effectiveness\", \"capability\"]            │\n",
       "│ 25           ┆ [\"loss\", \"waste\", \"substance\", \"material\", \"leakage\"]                               │\n",
       "│ 26           ┆ [\"loss\", \"time\", \"delay\", \"efficiency\", \"speed\"]                                    │\n",
       "│ 27           ┆ [\"loss\", \"waste\", \"energy\", \"efficiency\", \"dissipation\"]                            │\n",
       "│ 28           ┆ [\"loss\", \"information\", \"data\", \"signal\", \"communication\"]                          │\n",
       "│ 29           ┆ [\"noise\", \"sound\", \"vibration\", \"acoustic\", \"disturbance\"]                          │\n",
       "│ 30           ┆ [\"harmful\", \"emissions\", \"pollution\", \"toxic\", \"waste\", \"byproduct\"]                │\n",
       "│ 31           ┆ [\"harmful\", \"effects\", \"generated\", \"system\", \"internal\", \"byproduct\"]              │\n",
       "│ 32           ┆ [\"adaptability\", \"versatility\", \"flexible\", \"adjustable\", \"modular\"]                │\n",
       "│ 33           ┆ [\"compatibility\", \"connectability\", \"interoperability\", \"standard\", \"interface\"]    │\n",
       "│ 34           ┆ [\"ease\", \"operation\", \"use\", \"user\", \"interface\", \"simple\"]                         │\n",
       "│ 35           ┆ [\"reliability\", \"robustness\", \"dependable\", \"consistent\", \"failure\"]                │\n",
       "│ 36           ┆ [\"repairability\", \"repair\", \"maintenance\", \"service\", \"fix\"]                        │\n",
       "│ 37           ┆ [\"security\", \"secure\", \"protection\", \"encryption\", \"access\"]                        │\n",
       "│ 38           ┆ [\"safety\", \"vulnerability\", \"hazard\", \"risk\", \"danger\"]                             │\n",
       "│ 39           ┆ [\"aesthetics\", \"appearance\", \"beauty\", \"visual\", \"design\"]                          │\n",
       "│ 40           ┆ [\"harmful\", \"effects\", \"acting\", \"external\", \"damage\"]                              │\n",
       "│ 41           ┆ [\"manufacturability\", \"manufacture\", \"production\", \"fabrication\", \"easy\"]           │\n",
       "│ 42           ┆ [\"manufacture\", \"precision\", \"consistency\", \"tolerance\", \"production\", \"quality\"]   │\n",
       "│ 43           ┆ [\"automation\", \"automatic\", \"manual\", \"control\", \"extent\"]                          │\n",
       "│ 44           ┆ [\"productivity\", \"output\", \"efficiency\", \"throughput\", \"performance\"]               │\n",
       "│ 45           ┆ [\"system\", \"complexity\", \"simple\", \"complicated\", \"device\"]                         │\n",
       "│ 46           ┆ [\"control\", \"complexity\", \"simple\", \"complicated\", \"management\"]                    │\n",
       "│ 47           ┆ [\"ability\", \"detect\", \"measure\", \"sensing\", \"monitoring\", \"detection\"]              │\n",
       "│ 48           ┆ [\"measurement\", \"precision\", \"accuracy\", \"error\", \"calibration\"]                    │\n",
       "└──────────────┴─────────────────────────────────────────────────────────────────────────────────────┘"
      ],
      "text/html": [
       "<div><style>\n",
       ".dataframe > thead > tr,\n",
       ".dataframe > tbody > tr {\n",
       "  text-align: right;\n",
       "  white-space: pre-wrap;\n",
       "}\n",
       "</style>\n",
       "<small>shape: (48, 2)</small><table border=\"1\" class=\"dataframe\"><thead><tr><th>parameter_id</th><th>keywords</th></tr><tr><td>i64</td><td>list[str]</td></tr></thead><tbody><tr><td>1</td><td>[&quot;weight&quot;, &quot;mass&quot;, &quot;heavy&quot;, &quot;light&quot;, &quot;moving&quot;, &quot;mobile&quot;, &quot;dynamic&quot;]</td></tr><tr><td>2</td><td>[&quot;weight&quot;, &quot;mass&quot;, &quot;heavy&quot;, &quot;light&quot;, &quot;stationary&quot;, &quot;fixed&quot;, &quot;static&quot;]</td></tr><tr><td>3</td><td>[&quot;length&quot;, &quot;angle&quot;, &quot;long&quot;, &quot;short&quot;, &quot;dimension&quot;, &quot;angular&quot;, &quot;moving&quot;, &quot;mobile&quot;]</td></tr><tr><td>4</td><td>[&quot;length&quot;, &quot;angle&quot;, &quot;long&quot;, &quot;short&quot;, &quot;dimension&quot;, &quot;angular&quot;, &quot;stationary&quot;, &quot;fixed&quot;]</td></tr><tr><td>5</td><td>[&quot;area&quot;, &quot;surface&quot;, &quot;coverage&quot;, &quot;moving&quot;, &quot;mobile&quot;]</td></tr><tr><td>6</td><td>[&quot;area&quot;, &quot;surface&quot;, &quot;coverage&quot;, &quot;stationary&quot;, &quot;fixed&quot;]</td></tr><tr><td>7</td><td>[&quot;volume&quot;, &quot;capacity&quot;, &quot;size&quot;, &quot;moving&quot;, &quot;mobile&quot;]</td></tr><tr><td>8</td><td>[&quot;volume&quot;, &quot;capacity&quot;, &quot;size&quot;, &quot;stationary&quot;, &quot;fixed&quot;]</td></tr><tr><td>9</td><td>[&quot;shape&quot;, &quot;form&quot;, &quot;geometry&quot;, &quot;configuration&quot;, &quot;design&quot;, &quot;contour&quot;]</td></tr><tr><td>10</td><td>[&quot;amount&quot;, &quot;substance&quot;, &quot;quantity&quot;, &quot;material&quot;, &quot;matter&quot;, &quot;mass&quot;]</td></tr><tr><td>11</td><td>[&quot;amount&quot;, &quot;information&quot;, &quot;data&quot;, &quot;knowledge&quot;, &quot;content&quot;, &quot;details&quot;]</td></tr><tr><td>12</td><td>[&quot;duration&quot;, &quot;time&quot;, &quot;period&quot;, &quot;lifetime&quot;, &quot;moving&quot;, &quot;action&quot;]</td></tr><tr><td>13</td><td>[&quot;duration&quot;, &quot;time&quot;, &quot;period&quot;, &quot;lifetime&quot;, &quot;stationary&quot;, &quot;action&quot;]</td></tr><tr><td>14</td><td>[&quot;speed&quot;, &quot;velocity&quot;, &quot;fast&quot;, &quot;slow&quot;, &quot;rate&quot;, &quot;acceleration&quot;]</td></tr><tr><td>15</td><td>[&quot;force&quot;, &quot;torque&quot;, &quot;push&quot;, &quot;pull&quot;, &quot;tension&quot;, &quot;compression&quot;, &quot;twist&quot;]</td></tr><tr><td>16</td><td>[&quot;energy&quot;, &quot;power&quot;, &quot;consumption&quot;, &quot;efficiency&quot;, &quot;moving&quot;, &quot;dynamic&quot;]</td></tr><tr><td>17</td><td>[&quot;energy&quot;, &quot;power&quot;, &quot;consumption&quot;, &quot;efficiency&quot;, &quot;stationary&quot;, &quot;static&quot;]</td></tr><tr><td>18</td><td>[&quot;power&quot;, &quot;energy&quot;, &quot;electrical&quot;, &quot;mechanical&quot;, &quot;output&quot;, &quot;wattage&quot;]</td></tr><tr><td>19</td><td>[&quot;stress&quot;, &quot;pressure&quot;, &quot;strain&quot;, &quot;load&quot;, &quot;mechanical&quot;, &quot;compression&quot;]</td></tr><tr><td>20</td><td>[&quot;strength&quot;, &quot;durability&quot;, &quot;robust&quot;, &quot;strong&quot;, &quot;weak&quot;, &quot;mechanical&quot;]</td></tr><tr><td>21</td><td>[&quot;stability&quot;, &quot;stable&quot;, &quot;unstable&quot;, &quot;equilibrium&quot;, &quot;balance&quot;, &quot;steady&quot;]</td></tr><tr><td>22</td><td>[&quot;temperature&quot;, &quot;heat&quot;, &quot;cold&quot;, &quot;thermal&quot;, &quot;heating&quot;, &quot;cooling&quot;]</td></tr><tr><td>23</td><td>[&quot;illumination&quot;, &quot;light&quot;, &quot;brightness&quot;, &quot;lighting&quot;, &quot;visibility&quot;]</td></tr><tr><td>24</td><td>[&quot;function&quot;, &quot;efficiency&quot;, &quot;performance&quot;, &quot;effectiveness&quot;, &quot;capability&quot;]</td></tr><tr><td>25</td><td>[&quot;loss&quot;, &quot;waste&quot;, &quot;substance&quot;, &quot;material&quot;, &quot;leakage&quot;]</td></tr><tr><td>26</td><td>[&quot;loss&quot;, &quot;time&quot;, &quot;delay&quot;, &quot;efficiency&quot;, &quot;speed&quot;]</td></tr><tr><td>27</td><td>[&quot;loss&quot;, &quot;waste&quot;, &quot;energy&quot;, &quot;efficiency&quot;, &quot;dissipation&quot;]</td></tr><tr><td>28</td><td>[&quot;loss&quot;, &quot;information&quot;, &quot;data&quot;, &quot;signal&quot;, &quot;communication&quot;]</td></tr><tr><td>29</td><td>[&quot;noise&quot;, &quot;sound&quot;, &quot;vibration&quot;, &quot;acoustic&quot;, &quot;disturbance&quot;]</td></tr><tr><td>30</td><td>[&quot;harmful&quot;, &quot;emissions&quot;, &quot;pollution&quot;, &quot;toxic&quot;, &quot;waste&quot;, &quot;byproduct&quot;]</td></tr><tr><td>31</td><td>[&quot;harmful&quot;, &quot;effects&quot;, &quot;generated&quot;, &quot;system&quot;, &quot;internal&quot;, &quot;byproduct&quot;]</td></tr><tr><td>32</td><td>[&quot;adaptability&quot;, &quot;versatility&quot;, &quot;flexible&quot;, &quot;adjustable&quot;, &quot;modular&quot;]</td></tr><tr><td>33</td><td>[&quot;compatibility&quot;, &quot;connectability&quot;, &quot;interoperability&quot;, &quot;standard&quot;, &quot;interface&quot;]</td></tr><tr><td>34</td><td>[&quot;ease&quot;, &quot;operation&quot;, &quot;use&quot;, &quot;user&quot;, &quot;interface&quot;, &quot;simple&quot;]</td></tr><tr><td>35</td><td>[&quot;reliability&quot;, &quot;robustness&quot;, &quot;dependable&quot;, &quot;consistent&quot;, &quot;failure&quot;]</td></tr><tr><td>36</td><td>[&quot;repairability&quot;, &quot;repair&quot;, &quot;maintenance&quot;, &quot;service&quot;, &quot;fix&quot;]</td></tr><tr><td>37</td><td>[&quot;security&quot;, &quot;secure&quot;, &quot;protection&quot;, &quot;encryption&quot;, &quot;access&quot;]</td></tr><tr><td>38</td><td>[&quot;safety&quot;, &quot;vulnerability&quot;, &quot;hazard&quot;, &quot;risk&quot;, &quot;danger&quot;]</td></tr><tr><td>39</td><td>[&quot;aesthetics&quot;, &quot;appearance&quot;, &quot;beauty&quot;, &quot;visual&quot;, &quot;design&quot;]</td></tr><tr><td>40</td><td>[&quot;harmful&quot;, &quot;effects&quot;, &quot;acting&quot;, &quot;external&quot;, &quot;damage&quot;]</td></tr><tr><td>41</td><td>[&quot;manufacturability&quot;, &quot;manufacture&quot;, &quot;production&quot;, &quot;fabrication&quot;, &quot;easy&quot;]</td></tr><tr><td>42</td><td>[&quot;manufacture&quot;, &quot;precision&quot;, &quot;consistency&quot;, &quot;tolerance&quot;, &quot;production&quot;, &quot;quality&quot;]</td></tr><tr><td>43</td><td>[&quot;automation&quot;, &quot;automatic&quot;, &quot;manual&quot;, &quot;control&quot;, &quot;extent&quot;]</td></tr><tr><td>44</td><td>[&quot;productivity&quot;, &quot;output&quot;, &quot;efficiency&quot;, &quot;throughput&quot;, &quot;performance&quot;]</td></tr><tr><td>45</td><td>[&quot;system&quot;, &quot;complexity&quot;, &quot;simple&quot;, &quot;complicated&quot;, &quot;device&quot;]</td></tr><tr><td>46</td><td>[&quot;control&quot;, &quot;complexity&quot;, &quot;simple&quot;, &quot;complicated&quot;, &quot;management&quot;]</td></tr><tr><td>47</td><td>[&quot;ability&quot;, &quot;detect&quot;, &quot;measure&quot;, &quot;sensing&quot;, &quot;monitoring&quot;, &quot;detection&quot;]</td></tr><tr><td>48</td><td>[&quot;measurement&quot;, &quot;precision&quot;, &quot;accuracy&quot;, &quot;error&quot;, &quot;calibration&quot;]</td></tr></tbody></table></div>"
      ]
     },
     "execution_count": 9,
     "metadata": {},
     "output_type": "execute_result"
    }
   ],
   "execution_count": 9
  },
  {
   "metadata": {
    "ExecuteTime": {
     "end_time": "2025-08-28T06:23:21.030407Z",
     "start_time": "2025-08-28T06:23:21.027530Z"
    }
   },
   "cell_type": "code",
   "source": [
    "sem_weights = [0.3, 0.3, 0.3, 0.5, 0.7]\n",
    "km_weights = [0.3, 0.2, 0.5, 0.2, 0.1]\n",
    "tfidf_weights = [0.4, 0.5, 0.2, 0.3, 0.2]\n",
    "\n",
    "method_weights_df = pl.DataFrame({\n",
    "    \"semantic_w\": sem_weights,\n",
    "    \"keyword_w\": km_weights,\n",
    "    \"tfidf_w\": tfidf_weights\n",
    "})"
   ],
   "id": "d9984ea4dbcf9ef1",
   "outputs": [],
   "execution_count": 10
  },
  {
   "metadata": {
    "ExecuteTime": {
     "end_time": "2025-08-28T06:23:28.022331Z",
     "start_time": "2025-08-28T06:23:28.016623Z"
    }
   },
   "cell_type": "code",
   "source": "method_weights_df",
   "id": "807bac50238956ad",
   "outputs": [
    {
     "data": {
      "text/plain": [
       "shape: (5, 3)\n",
       "┌────────────┬───────────┬─────────┐\n",
       "│ semantic_w ┆ keyword_w ┆ tfidf_w │\n",
       "│ ---        ┆ ---       ┆ ---     │\n",
       "│ f64        ┆ f64       ┆ f64     │\n",
       "╞════════════╪═══════════╪═════════╡\n",
       "│ 0.3        ┆ 0.3       ┆ 0.4     │\n",
       "│ 0.3        ┆ 0.2       ┆ 0.5     │\n",
       "│ 0.3        ┆ 0.5       ┆ 0.2     │\n",
       "│ 0.5        ┆ 0.2       ┆ 0.3     │\n",
       "│ 0.7        ┆ 0.1       ┆ 0.2     │\n",
       "└────────────┴───────────┴─────────┘"
      ],
      "text/html": [
       "<div><style>\n",
       ".dataframe > thead > tr,\n",
       ".dataframe > tbody > tr {\n",
       "  text-align: right;\n",
       "  white-space: pre-wrap;\n",
       "}\n",
       "</style>\n",
       "<small>shape: (5, 3)</small><table border=\"1\" class=\"dataframe\"><thead><tr><th>semantic_w</th><th>keyword_w</th><th>tfidf_w</th></tr><tr><td>f64</td><td>f64</td><td>f64</td></tr></thead><tbody><tr><td>0.3</td><td>0.3</td><td>0.4</td></tr><tr><td>0.3</td><td>0.2</td><td>0.5</td></tr><tr><td>0.3</td><td>0.5</td><td>0.2</td></tr><tr><td>0.5</td><td>0.2</td><td>0.3</td></tr><tr><td>0.7</td><td>0.1</td><td>0.2</td></tr></tbody></table></div>"
      ]
     },
     "execution_count": 11,
     "metadata": {},
     "output_type": "execute_result"
    }
   ],
   "execution_count": 11
  },
  {
   "metadata": {
    "ExecuteTime": {
     "end_time": "2025-08-28T06:24:21.669078Z",
     "start_time": "2025-08-28T06:24:21.666418Z"
    }
   },
   "cell_type": "code",
   "source": [
    "claim_weights = [0.3, 0.3, 0.3, 0.5, 0.7]\n",
    "abs_weights = [0.3, 0.2, 0.5, 0.3, 0.1]\n",
    "describe_weights = [0.4, 0.5, 0.2, 0.2, 0.2]\n",
    "\n",
    "section_weights_df = pl.DataFrame({\n",
    "    \"abstract_w\": claim_weights,\n",
    "    \"description_w\": abs_weights,\n",
    "    \"claim_w\": describe_weights\n",
    "})"
   ],
   "id": "10aa547e04c1bd4a",
   "outputs": [],
   "execution_count": 12
  },
  {
   "metadata": {
    "ExecuteTime": {
     "end_time": "2025-08-28T06:24:25.458074Z",
     "start_time": "2025-08-28T06:24:25.455015Z"
    }
   },
   "cell_type": "code",
   "source": "section_weights_df",
   "id": "9b6915eb7846c1f5",
   "outputs": [
    {
     "data": {
      "text/plain": [
       "shape: (5, 3)\n",
       "┌────────────┬───────────────┬─────────┐\n",
       "│ abstract_w ┆ description_w ┆ claim_w │\n",
       "│ ---        ┆ ---           ┆ ---     │\n",
       "│ f64        ┆ f64           ┆ f64     │\n",
       "╞════════════╪═══════════════╪═════════╡\n",
       "│ 0.3        ┆ 0.3           ┆ 0.4     │\n",
       "│ 0.3        ┆ 0.2           ┆ 0.5     │\n",
       "│ 0.3        ┆ 0.5           ┆ 0.2     │\n",
       "│ 0.5        ┆ 0.3           ┆ 0.2     │\n",
       "│ 0.7        ┆ 0.1           ┆ 0.2     │\n",
       "└────────────┴───────────────┴─────────┘"
      ],
      "text/html": [
       "<div><style>\n",
       ".dataframe > thead > tr,\n",
       ".dataframe > tbody > tr {\n",
       "  text-align: right;\n",
       "  white-space: pre-wrap;\n",
       "}\n",
       "</style>\n",
       "<small>shape: (5, 3)</small><table border=\"1\" class=\"dataframe\"><thead><tr><th>abstract_w</th><th>description_w</th><th>claim_w</th></tr><tr><td>f64</td><td>f64</td><td>f64</td></tr></thead><tbody><tr><td>0.3</td><td>0.3</td><td>0.4</td></tr><tr><td>0.3</td><td>0.2</td><td>0.5</td></tr><tr><td>0.3</td><td>0.5</td><td>0.2</td></tr><tr><td>0.5</td><td>0.3</td><td>0.2</td></tr><tr><td>0.7</td><td>0.1</td><td>0.2</td></tr></tbody></table></div>"
      ]
     },
     "execution_count": 13,
     "metadata": {},
     "output_type": "execute_result"
    }
   ],
   "execution_count": 13
  },
  {
   "metadata": {},
   "cell_type": "code",
   "outputs": [],
   "execution_count": null,
   "source": "",
   "id": "a29a5dd741984eed"
  }
 ],
 "metadata": {
  "kernelspec": {
   "display_name": "Python 3",
   "language": "python",
   "name": "python3"
  },
  "language_info": {
   "codemirror_mode": {
    "name": "ipython",
    "version": 2
   },
   "file_extension": ".py",
   "mimetype": "text/x-python",
   "name": "python",
   "nbconvert_exporter": "python",
   "pygments_lexer": "ipython2",
   "version": "2.7.6"
  }
 },
 "nbformat": 4,
 "nbformat_minor": 5
}
