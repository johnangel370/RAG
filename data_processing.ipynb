{
 "cells": [
  {
   "cell_type": "code",
   "id": "1749023fe0ae517a",
   "metadata": {
    "ExecuteTime": {
     "end_time": "2025-07-17T05:38:05.273178Z",
     "start_time": "2025-07-17T05:38:05.211389Z"
    }
   },
   "source": [
    "import polars as pl\n",
    "from pathlib import Path\n",
    "import re\n",
    "import json"
   ],
   "outputs": [],
   "execution_count": 1
  },
  {
   "cell_type": "code",
   "id": "initial_id",
   "metadata": {
    "collapsed": true,
    "ExecuteTime": {
     "end_time": "2025-07-17T05:39:10.965223Z",
     "start_time": "2025-07-17T05:39:10.805769Z"
    }
   },
   "source": [
    "# data_path = Path(r\"C:\\Users\\user\\Project\\SideProjects\\RAG\\data\\patent_samples.csv\")\n",
    "data_path = Path(r\"C:\\Users\\User\\Projects\\RAG\\data\\patent_samples.csv\")\n",
    "df = pl.read_csv(data_path)\n",
    "df\n"
   ],
   "outputs": [
    {
     "data": {
      "text/plain": [
       "shape: (5_000, 6)\n",
       "┌────────┬────────────────┬──────────────────┬─────────────────┬─────────────────┬─────────────────┐\n",
       "│ id     ┆ app_doc_number ┆ invention_title  ┆ abstract        ┆ description     ┆ claims          │\n",
       "│ ---    ┆ ---            ┆ ---              ┆ ---             ┆ ---             ┆ ---             │\n",
       "│ i64    ┆ i64            ┆ str              ┆ str             ┆ str             ┆ str             │\n",
       "╞════════╪════════════════╪══════════════════╪═════════════════╪═════════════════╪═════════════════╡\n",
       "│ 415065 ┆ 13538195       ┆ Programmable low ┆                 ┆                 ┆                 │\n",
       "│        ┆                ┆ power multi-m…   ┆ Disclosed is a  ┆                 ┆                 │\n",
       "│        ┆                ┆                  ┆ method and ap…  ┆  BACKGROUND     ┆ 1. A            │\n",
       "│        ┆                ┆                  ┆                 ┆ 1. Field of th… ┆ multi-modulus   │\n",
       "│        ┆                ┆                  ┆                 ┆                 ┆ divider…        │\n",
       "│ 550748 ┆ 13248165       ┆ Hearing aid      ┆                 ┆                 ┆                 │\n",
       "│        ┆                ┆ device for       ┆ With a hearing  ┆                 ┆                 │\n",
       "│        ┆                ┆ frequen…         ┆ aid device su…  ┆ CROSS-REFERENCE ┆ 1. A method for │\n",
       "│        ┆                ┆                  ┆                 ┆ TO RELATED …    ┆ frequency …     │\n",
       "│ 110416 ┆ 12569987       ┆ Battery cooling  ┆                 ┆                 ┆                 │\n",
       "│        ┆                ┆ apparatus for …  ┆ A battery pack  ┆                 ┆                 │\n",
       "│        ┆                ┆                  ┆ apparatus has…  ┆  BACKGROUND     ┆ 1. A battery    │\n",
       "│        ┆                ┆                  ┆                 ┆ The present di… ┆ pack apparatu…  │\n",
       "│ 619075 ┆ 13656105       ┆ Methods of       ┆                 ┆                 ┆                 │\n",
       "│        ┆                ┆ inhibiting       ┆ This invention  ┆                 ┆                 │\n",
       "│        ┆                ┆ cyanobac…        ┆ offers an eff…  ┆ BACKGROUND OF   ┆ 1. A method of  │\n",
       "│        ┆                ┆                  ┆                 ┆ THE INVENTION…  ┆ inhibiting …    │\n",
       "│ 597454 ┆ 14104237       ┆ Method for       ┆                 ┆                 ┆                 │\n",
       "│        ┆                ┆ welding          ┆ Relating to     ┆                 ┆                 │\n",
       "│        ┆                ┆ gold-silico…     ┆ electronic      ┆ CROSS-REFERENCE ┆ 1. A method for │\n",
       "│        ┆                ┆                  ┆ compo…          ┆ TO RELATED …    ┆ welding a …     │\n",
       "│ …      ┆ …              ┆ …                ┆ …               ┆ …               ┆ …               │\n",
       "│ 468352 ┆ 13335140       ┆ Continuous       ┆                 ┆                 ┆                 │\n",
       "│        ┆                ┆ recovery system  ┆ A continuous    ┆                 ┆                 │\n",
       "│        ┆                ┆ for…             ┆ recovery        ┆ FEDERALLY       ┆ 1. A continuous │\n",
       "│        ┆                ┆                  ┆ system…         ┆ SPONSORED       ┆ recovery s…     │\n",
       "│        ┆                ┆                  ┆                 ┆ RESEARC…        ┆                 │\n",
       "│ 374985 ┆ 13762177       ┆ Cement           ┆                 ┆                 ┆                 │\n",
       "│        ┆                ┆ compositions     ┆ A method of     ┆                 ┆                 │\n",
       "│        ┆                ┆ with a hig…      ┆ cementing in a  ┆ CROSS-REFERENCE ┆ 1. A cement     │\n",
       "│        ┆                ┆                  ┆ s…              ┆ TO RELATED …    ┆ composition co… │\n",
       "│ 316450 ┆ 13135745       ┆ Use of           ┆                 ┆                 ┆                 │\n",
       "│        ┆                ┆ titanium-based   ┆ Compositions    ┆                 ┆                 │\n",
       "│        ┆                ┆ material…        ┆ containing      ┆ RELATED         ┆ 1. A process    │\n",
       "│        ┆                ┆                  ┆ meta…           ┆ APPLICATIONS    ┆ for treating …  │\n",
       "│        ┆                ┆                  ┆                 ┆  This…          ┆                 │\n",
       "│ 604579 ┆ 13778244       ┆ Lamp             ┆                 ┆                 ┆                 │\n",
       "│        ┆                ┆                  ┆ A lamp includes ┆                 ┆                 │\n",
       "│        ┆                ┆                  ┆ a housing ha…   ┆ BACKGROUND OF   ┆ 1. A lamp       │\n",
       "│        ┆                ┆                  ┆                 ┆ THE INVENTION…  ┆ comprising:     │\n",
       "│        ┆                ┆                  ┆                 ┆                 ┆  a h…           │\n",
       "│ 739315 ┆ 13942966       ┆ Method of        ┆                 ┆                 ┆                 │\n",
       "│        ┆                ┆ manufacturing an ┆ Organic light   ┆                 ┆                 │\n",
       "│        ┆                ┆ OLE…             ┆ emitting diode… ┆ This            ┆ 1. An organic   │\n",
       "│        ┆                ┆                  ┆                 ┆ application     ┆ light emitti…   │\n",
       "│        ┆                ┆                  ┆                 ┆ claims pri…     ┆                 │\n",
       "└────────┴────────────────┴──────────────────┴─────────────────┴─────────────────┴─────────────────┘"
      ],
      "text/html": [
       "<div><style>\n",
       ".dataframe > thead > tr,\n",
       ".dataframe > tbody > tr {\n",
       "  text-align: right;\n",
       "  white-space: pre-wrap;\n",
       "}\n",
       "</style>\n",
       "<small>shape: (5_000, 6)</small><table border=\"1\" class=\"dataframe\"><thead><tr><th>id</th><th>app_doc_number</th><th>invention_title</th><th>abstract</th><th>description</th><th>claims</th></tr><tr><td>i64</td><td>i64</td><td>str</td><td>str</td><td>str</td><td>str</td></tr></thead><tbody><tr><td>415065</td><td>13538195</td><td>&quot;Programmable low power multi-m…</td><td>&quot;\n",
       " Disclosed is a method and ap…</td><td>&quot;\n",
       "\n",
       " BACKGROUND \n",
       " 1. Field of th…</td><td>&quot;\n",
       " \n",
       " 1. A multi-modulus divider…</td></tr><tr><td>550748</td><td>13248165</td><td>&quot;Hearing aid device for frequen…</td><td>&quot;\n",
       " With a hearing aid device su…</td><td>&quot;\n",
       "\n",
       " CROSS-REFERENCE TO RELATED …</td><td>&quot;\n",
       " \n",
       " 1. A method for frequency …</td></tr><tr><td>110416</td><td>12569987</td><td>&quot;Battery cooling apparatus for …</td><td>&quot;\n",
       " A battery pack apparatus has…</td><td>&quot;\n",
       "\n",
       " BACKGROUND \n",
       " The present di…</td><td>&quot;\n",
       " \n",
       " 1. A battery pack apparatu…</td></tr><tr><td>619075</td><td>13656105</td><td>&quot;Methods of inhibiting cyanobac…</td><td>&quot;\n",
       " This invention offers an eff…</td><td>&quot;\n",
       "\n",
       " BACKGROUND OF THE INVENTION…</td><td>&quot;\n",
       " \n",
       " 1. A method of inhibiting …</td></tr><tr><td>597454</td><td>14104237</td><td>&quot;Method for welding gold-silico…</td><td>&quot;\n",
       " Relating to electronic compo…</td><td>&quot;\n",
       "\n",
       " CROSS-REFERENCE TO RELATED …</td><td>&quot;\n",
       " \n",
       " 1. A method for welding a …</td></tr><tr><td>&hellip;</td><td>&hellip;</td><td>&hellip;</td><td>&hellip;</td><td>&hellip;</td><td>&hellip;</td></tr><tr><td>468352</td><td>13335140</td><td>&quot;Continuous recovery system for…</td><td>&quot;\n",
       " A continuous recovery system…</td><td>&quot;\n",
       "\n",
       " FEDERALLY SPONSORED RESEARC…</td><td>&quot;\n",
       " \n",
       " 1. A continuous recovery s…</td></tr><tr><td>374985</td><td>13762177</td><td>&quot;Cement compositions with a hig…</td><td>&quot;\n",
       " A method of cementing in a s…</td><td>&quot;\n",
       "\n",
       " CROSS-REFERENCE TO RELATED …</td><td>&quot;\n",
       " \n",
       " 1. A cement composition co…</td></tr><tr><td>316450</td><td>13135745</td><td>&quot;Use of titanium-based material…</td><td>&quot;\n",
       " Compositions containing meta…</td><td>&quot;\n",
       "\n",
       " RELATED APPLICATIONS \n",
       " This…</td><td>&quot;\n",
       " \n",
       " 1. A process for treating …</td></tr><tr><td>604579</td><td>13778244</td><td>&quot;Lamp&quot;</td><td>&quot;\n",
       " A lamp includes a housing ha…</td><td>&quot;\n",
       "\n",
       " BACKGROUND OF THE INVENTION…</td><td>&quot;\n",
       " \n",
       " 1. A lamp comprising:\n",
       " a h…</td></tr><tr><td>739315</td><td>13942966</td><td>&quot;Method of manufacturing an OLE…</td><td>&quot;\n",
       " Organic light emitting diode…</td><td>&quot;\n",
       "\n",
       " This application claims pri…</td><td>&quot;\n",
       " \n",
       " 1. An organic light emitti…</td></tr></tbody></table></div>"
      ]
     },
     "execution_count": 3,
     "metadata": {},
     "output_type": "execute_result"
    }
   ],
   "execution_count": 3
  },
  {
   "cell_type": "code",
   "id": "35dbac19f5b418b8",
   "metadata": {
    "ExecuteTime": {
     "end_time": "2025-07-17T05:39:15.299926Z",
     "start_time": "2025-07-17T05:39:15.297224Z"
    }
   },
   "source": [
    "def preprocess_str(text):\n",
    "    cleaned_text = re.sub(r'\\s+', ' ', text)\n",
    "    cleaned_text = ''.join(c for c in cleaned_text if c.isprintable())\n",
    "    cleaned_text = cleaned_text.strip()\n",
    "    return cleaned_text"
   ],
   "outputs": [],
   "execution_count": 4
  },
  {
   "cell_type": "code",
   "id": "9ec4ac47c2ba0246",
   "metadata": {
    "ExecuteTime": {
     "end_time": "2025-07-17T05:39:41.001379Z",
     "start_time": "2025-07-17T05:39:30.328870Z"
    }
   },
   "source": [
    "new_list = []\n",
    "for i, row in enumerate(df.iter_rows(named=True)):\n",
    "    new_dict = {'id': row['id'], 'doc_num': row['app_doc_number'], 'title': row['invention_title'],\n",
    "                'abstract': preprocess_str(row['abstract']), 'description': preprocess_str(row['description']),\n",
    "                'claims': preprocess_str(row['claims'])}\n",
    "    new_list.append(new_dict)"
   ],
   "outputs": [],
   "execution_count": 5
  },
  {
   "cell_type": "code",
   "id": "7bd9d1146a7a9615",
   "metadata": {
    "ExecuteTime": {
     "end_time": "2025-07-17T05:39:43.076174Z",
     "start_time": "2025-07-17T05:39:43.058257Z"
    }
   },
   "source": [
    "len(new_list)"
   ],
   "outputs": [
    {
     "data": {
      "text/plain": [
       "5000"
      ]
     },
     "execution_count": 6,
     "metadata": {},
     "output_type": "execute_result"
    }
   ],
   "execution_count": 6
  },
  {
   "cell_type": "code",
   "id": "d09ca660b8d2b9c4",
   "metadata": {
    "ExecuteTime": {
     "end_time": "2025-07-17T05:39:45.411827Z",
     "start_time": "2025-07-17T05:39:45.227837Z"
    }
   },
   "source": [
    "new_df_cols = ['id', 'doc_num', 'title', 'abstract', 'description', 'claims']\n",
    "new_df = pl.DataFrame(new_list, schema=new_df_cols)\n",
    "new_df"
   ],
   "outputs": [
    {
     "data": {
      "text/plain": [
       "shape: (5_000, 6)\n",
       "┌────────┬──────────┬───────────────────┬───────────────────┬───────────────────┬──────────────────┐\n",
       "│ id     ┆ doc_num  ┆ title             ┆ abstract          ┆ description       ┆ claims           │\n",
       "│ ---    ┆ ---      ┆ ---               ┆ ---               ┆ ---               ┆ ---              │\n",
       "│ i64    ┆ i64      ┆ str               ┆ str               ┆ str               ┆ str              │\n",
       "╞════════╪══════════╪═══════════════════╪═══════════════════╪═══════════════════╪══════════════════╡\n",
       "│ 415065 ┆ 13538195 ┆ Programmable low  ┆ Disclosed is a    ┆ BACKGROUND 1.     ┆ 1. A             │\n",
       "│        ┆          ┆ power multi-m…    ┆ method and appa…  ┆ Field of the Dis… ┆ multi-modulus    │\n",
       "│        ┆          ┆                   ┆                   ┆                   ┆ divider (MM…     │\n",
       "│ 550748 ┆ 13248165 ┆ Hearing aid       ┆ With a hearing    ┆ CROSS-REFERENCE   ┆ 1. A method for  │\n",
       "│        ┆          ┆ device for        ┆ aid device suit…  ┆ TO RELATED APP…   ┆ frequency comp…  │\n",
       "│        ┆          ┆ frequen…          ┆                   ┆                   ┆                  │\n",
       "│ 110416 ┆ 12569987 ┆ Battery cooling   ┆ A battery pack    ┆ BACKGROUND The    ┆ 1. A battery     │\n",
       "│        ┆          ┆ apparatus for …   ┆ apparatus has a…  ┆ present disclos…  ┆ pack apparatus   │\n",
       "│        ┆          ┆                   ┆                   ┆                   ┆ co…              │\n",
       "│ 619075 ┆ 13656105 ┆ Methods of        ┆ This invention    ┆ BACKGROUND OF THE ┆ 1. A method of   │\n",
       "│        ┆          ┆ inhibiting        ┆ offers an effec…  ┆ INVENTION 1.…     ┆ inhibiting the … │\n",
       "│        ┆          ┆ cyanobac…         ┆                   ┆                   ┆                  │\n",
       "│ 597454 ┆ 14104237 ┆ Method for        ┆ Relating to       ┆ CROSS-REFERENCE   ┆ 1. A method for  │\n",
       "│        ┆          ┆ welding           ┆ electronic        ┆ TO RELATED APP…   ┆ welding a gold…  │\n",
       "│        ┆          ┆ gold-silico…      ┆ compone…          ┆                   ┆                  │\n",
       "│ …      ┆ …        ┆ …                 ┆ …                 ┆ …                 ┆ …                │\n",
       "│ 468352 ┆ 13335140 ┆ Continuous        ┆ A continuous      ┆ FEDERALLY         ┆ 1. A continuous  │\n",
       "│        ┆          ┆ recovery system   ┆ recovery system   ┆ SPONSORED         ┆ recovery syste…  │\n",
       "│        ┆          ┆ for…              ┆ f…                ┆ RESEARCH O…       ┆                  │\n",
       "│ 374985 ┆ 13762177 ┆ Cement            ┆ A method of       ┆ CROSS-REFERENCE   ┆ 1. A cement      │\n",
       "│        ┆          ┆ compositions with ┆ cementing in a    ┆ TO RELATED APP…   ┆ composition      │\n",
       "│        ┆          ┆ a hig…            ┆ sub…              ┆                   ┆ compri…          │\n",
       "│ 316450 ┆ 13135745 ┆ Use of            ┆ Compositions      ┆ RELATED           ┆ 1. A process for │\n",
       "│        ┆          ┆ titanium-based    ┆ containing metal  ┆ APPLICATIONS This ┆ treating oral…   │\n",
       "│        ┆          ┆ material…         ┆ …                 ┆ appl…             ┆                  │\n",
       "│ 604579 ┆ 13778244 ┆ Lamp              ┆ A lamp includes a ┆ BACKGROUND OF THE ┆ 1. A lamp        │\n",
       "│        ┆          ┆                   ┆ housing havi…     ┆ INVENTION 1.…     ┆ comprising: a    │\n",
       "│        ┆          ┆                   ┆                   ┆                   ┆ housin…          │\n",
       "│ 739315 ┆ 13942966 ┆ Method of         ┆ Organic light     ┆ This application  ┆ 1. An organic    │\n",
       "│        ┆          ┆ manufacturing an  ┆ emitting diode d… ┆ claims priori…    ┆ light emitting   │\n",
       "│        ┆          ┆ OLE…              ┆                   ┆                   ┆ d…               │\n",
       "└────────┴──────────┴───────────────────┴───────────────────┴───────────────────┴──────────────────┘"
      ],
      "text/html": [
       "<div><style>\n",
       ".dataframe > thead > tr,\n",
       ".dataframe > tbody > tr {\n",
       "  text-align: right;\n",
       "  white-space: pre-wrap;\n",
       "}\n",
       "</style>\n",
       "<small>shape: (5_000, 6)</small><table border=\"1\" class=\"dataframe\"><thead><tr><th>id</th><th>doc_num</th><th>title</th><th>abstract</th><th>description</th><th>claims</th></tr><tr><td>i64</td><td>i64</td><td>str</td><td>str</td><td>str</td><td>str</td></tr></thead><tbody><tr><td>415065</td><td>13538195</td><td>&quot;Programmable low power multi-m…</td><td>&quot;Disclosed is a method and appa…</td><td>&quot;BACKGROUND 1. Field of the Dis…</td><td>&quot;1. A multi-modulus divider (MM…</td></tr><tr><td>550748</td><td>13248165</td><td>&quot;Hearing aid device for frequen…</td><td>&quot;With a hearing aid device suit…</td><td>&quot;CROSS-REFERENCE TO RELATED APP…</td><td>&quot;1. A method for frequency comp…</td></tr><tr><td>110416</td><td>12569987</td><td>&quot;Battery cooling apparatus for …</td><td>&quot;A battery pack apparatus has a…</td><td>&quot;BACKGROUND The present disclos…</td><td>&quot;1. A battery pack apparatus co…</td></tr><tr><td>619075</td><td>13656105</td><td>&quot;Methods of inhibiting cyanobac…</td><td>&quot;This invention offers an effec…</td><td>&quot;BACKGROUND OF THE INVENTION 1.…</td><td>&quot;1. A method of inhibiting the …</td></tr><tr><td>597454</td><td>14104237</td><td>&quot;Method for welding gold-silico…</td><td>&quot;Relating to electronic compone…</td><td>&quot;CROSS-REFERENCE TO RELATED APP…</td><td>&quot;1. A method for welding a gold…</td></tr><tr><td>&hellip;</td><td>&hellip;</td><td>&hellip;</td><td>&hellip;</td><td>&hellip;</td><td>&hellip;</td></tr><tr><td>468352</td><td>13335140</td><td>&quot;Continuous recovery system for…</td><td>&quot;A continuous recovery system f…</td><td>&quot;FEDERALLY SPONSORED RESEARCH O…</td><td>&quot;1. A continuous recovery syste…</td></tr><tr><td>374985</td><td>13762177</td><td>&quot;Cement compositions with a hig…</td><td>&quot;A method of cementing in a sub…</td><td>&quot;CROSS-REFERENCE TO RELATED APP…</td><td>&quot;1. A cement composition compri…</td></tr><tr><td>316450</td><td>13135745</td><td>&quot;Use of titanium-based material…</td><td>&quot;Compositions containing metal …</td><td>&quot;RELATED APPLICATIONS This appl…</td><td>&quot;1. A process for treating oral…</td></tr><tr><td>604579</td><td>13778244</td><td>&quot;Lamp&quot;</td><td>&quot;A lamp includes a housing havi…</td><td>&quot;BACKGROUND OF THE INVENTION 1.…</td><td>&quot;1. A lamp comprising: a housin…</td></tr><tr><td>739315</td><td>13942966</td><td>&quot;Method of manufacturing an OLE…</td><td>&quot;Organic light emitting diode d…</td><td>&quot;This application claims priori…</td><td>&quot;1. An organic light emitting d…</td></tr></tbody></table></div>"
      ]
     },
     "execution_count": 7,
     "metadata": {},
     "output_type": "execute_result"
    }
   ],
   "execution_count": 7
  },
  {
   "cell_type": "code",
   "id": "de6edb195d8ea93c",
   "metadata": {
    "ExecuteTime": {
     "end_time": "2025-07-17T05:40:15.190223Z",
     "start_time": "2025-07-17T05:40:14.257996Z"
    }
   },
   "source": [
    "with open(\"patent_samples.json\", \"w\", encoding='utf-8') as f:\n",
    "    json.dump(new_list, f, ensure_ascii=False, indent=4)"
   ],
   "outputs": [],
   "execution_count": 8
  },
  {
   "cell_type": "code",
   "execution_count": null,
   "id": "133b4f981963625d",
   "metadata": {},
   "outputs": [],
   "source": []
  }
 ],
 "metadata": {
  "kernelspec": {
   "display_name": "Python 3",
   "language": "python",
   "name": "python3"
  },
  "language_info": {
   "codemirror_mode": {
    "name": "ipython",
    "version": 2
   },
   "file_extension": ".py",
   "mimetype": "text/x-python",
   "name": "python",
   "nbconvert_exporter": "python",
   "pygments_lexer": "ipython2",
   "version": "2.7.6"
  }
 },
 "nbformat": 4,
 "nbformat_minor": 5
}
